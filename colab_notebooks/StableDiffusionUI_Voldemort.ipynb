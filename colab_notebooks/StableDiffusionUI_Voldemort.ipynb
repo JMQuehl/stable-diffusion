{
  "nbformat": 4,
  "nbformat_minor": 0,
  "metadata": {
    "colab": {
      "private_outputs": true,
      "provenance": [],
      "collapsed_sections": [],
      "include_colab_link": true
    },
    "kernelspec": {
      "name": "python3",
      "display_name": "Python 3"
    },
    "language_info": {
      "name": "python"
    },
    "accelerator": "GPU",
    "gpuClass": "standard"
  },
  "cells": [
    {
      "cell_type": "markdown",
      "metadata": {
        "id": "view-in-github",
        "colab_type": "text"
      },
      "source": [
        "<a href=\"https://colab.research.google.com/github/JMQuehl/stable-diffusion/blob/colab/colab_notebooks/StableDiffusionUI_Voldemort.ipynb\" target=\"_parent\"><img src=\"https://colab.research.google.com/assets/colab-badge.svg\" alt=\"Open In Colab\"/></a>"
      ]
    },
    {
      "cell_type": "markdown",
      "source": [
        "Adapted from: https://colab.research.google.com/drive/1AfAmwLMd_Vx33O9IwY2TmO9wKZ8ABRRa"
      ],
      "metadata": {
        "id": "gfKvWAVnz8OB"
      }
    },
    {
      "cell_type": "code",
      "execution_count": null,
      "metadata": {
        "id": "OL82Y4rBjZIV"
      },
      "outputs": [],
      "source": [
        "!nvidia-smi"
      ]
    },
    {
      "cell_type": "code",
      "source": [
        "import os\n",
        "os.kill(os.getpid(), 9) # This will crash Colab (required, everything will still be intact so dont worry)"
      ],
      "metadata": {
        "id": "p8FI40sFj9tU"
      },
      "execution_count": null,
      "outputs": []
    },
    {
      "cell_type": "markdown",
      "source": [
        "Clone webui repository"
      ],
      "metadata": {
        "id": "OHCtG9MT0jLq"
      }
    },
    {
      "cell_type": "code",
      "source": [
        "!git clone https://github.com/AUTOMATIC1111/stable-diffusion-webui\n",
        "%cd stable-diffusion-webui"
      ],
      "metadata": {
        "id": "sBbcB4vwj_jm"
      },
      "execution_count": null,
      "outputs": []
    },
    {
      "cell_type": "markdown",
      "source": [
        "Install requirements, download repositories of stable diffusion"
      ],
      "metadata": {
        "id": "C68TUpkq0nj_"
      }
    },
    {
      "cell_type": "code",
      "source": [
        "!pip install -r requirements.txt\n",
        "!mkdir repositories\n",
        "!git clone https://github.com/CompVis/stable-diffusion.git repositories/stable-diffusion\n",
        "!git clone https://github.com/CompVis/taming-transformers.git repositories/taming-transformers\n",
        "!git clone https://github.com/sczhou/CodeFormer.git repositories/CodeFormer\n",
        "!pip install -r repositories/CodeFormer/requirements.txt "
      ],
      "metadata": {
        "id": "SaAJk33ppFw1"
      },
      "execution_count": null,
      "outputs": []
    },
    {
      "cell_type": "markdown",
      "source": [
        "Download the model from huggingface. See link at the start for different ways."
      ],
      "metadata": {
        "id": "F0EINk5M0s-w"
      }
    },
    {
      "cell_type": "code",
      "source": [
        "use_gdrive = True #@param{type: 'boolean'}\n",
        "save_missing_models_to_gdrive = True #@param{type: 'boolean'}\n",
        "force_remount = False\n",
        "\n",
        "if use_gdrive:\n",
        "  from google.colab import drive\n",
        "  gdrive_models_folder = \"/content/drive/MyDrive/AI/models\" #@param{type: 'string'}\n",
        "  drive.mount(\"/content/drive\",force_remount=force_remount)\n",
        "\n",
        "import os\n",
        "full_gdrive_sd_path = os.path.join(gdrive_models_folder, \"sd-v1-4.ckpt\")\n",
        "if not use_gdrive or not os.path.isfile(full_gdrive_sd_path):\n",
        "  #@title Normal 1.4 model\n",
        "  # get a token from https://huggingface.co/settings/tokens\n",
        "  user_token = \"get a token from https://huggingface.co/settings/tokens\" #@param {type:\"string\"}\n",
        "  user_header = f\"\\\"Authorization: Bearer {user_token}\\\"\"\n",
        "  !wget --header={user_header} https://huggingface.co/CompVis/stable-diffusion-v-1-4-original/resolve/main/sd-v1-4.ckpt -O model.ckpt\n",
        "  if use_gdrive and save_missing_models_to_gdrive:\n",
        "    !cp model.ckpt {full_gdrive_sd_path}\n",
        "else:\n",
        "  !cp {full_gdrive_sd_path} model.ckpt\n",
        "\n",
        "full_gdrive_gfpgan_path = os.path.join(gdrive_models_folder, \"GFPGANv1.3.pth\")\n",
        "if not use_gdrive or not os.path.isfile(full_gdrive_gfpgan_path):\n",
        "  !wget https://github.com/TencentARC/GFPGAN/releases/download/v1.3.0/GFPGANv1.3.pth\n",
        "  if use_gdrive and save_missing_models_to_gdrive:\n",
        "    !cp GFPGANv1.3.pth {full_gdrive_gfpgan_path}\n",
        "else:\n",
        "  !cp {full_gdrive_gfpgan_path} GFPGANv1.3.pth\n",
        "  "
      ],
      "metadata": {
        "id": "_NIXyZff0JdS"
      },
      "execution_count": null,
      "outputs": []
    },
    {
      "cell_type": "markdown",
      "source": [
        "Set standard-values for web-ui for easy use with gdrive."
      ],
      "metadata": {
        "id": "bbg-YSl7bLwT"
      }
    },
    {
      "cell_type": "code",
      "source": [
        "import json\n",
        "if use_gdrive:\n",
        "  gdrive_txt2img_out_folder = \"/content/drive/MyDrive/AI/StableDiffusion/txt2img_out\" #@param{type: 'string'}\n",
        "  gdrive_img2img_out_folder = \"/content/drive/MyDrive/AI/StableDiffusion/img2img_out\" #@param{type: 'string'}\n",
        "  gdrive_extras_out_folder = \"/content/drive/MyDrive/AI/StableDiffusion/extras_out\" #@param{type: 'string'}\n",
        "  gdrive_grids_out_folder = \"/content/drive/MyDrive/AI/StableDiffusion/grids_out\" #@param{type: 'string'}\n",
        "  save_to_sub_dirs = True #@param{type: 'boolean'}\n",
        "  sub_dir_name_length = 10 #@param{type: 'slider', min:1, max:32, step:1}\n",
        "\n",
        "  class OptionInfo:\n",
        "    def __init__(self, default=None, label=\"\", component=None, component_args=None):\n",
        "        self.default = default\n",
        "        self.label = label\n",
        "        self.component = component\n",
        "        self.component_args = component_args\n",
        "\n",
        "  optsdata = {\n",
        "      \"outdir_samples\": \"\",\n",
        "      \"outdir_txt2img_samples\": gdrive_txt2img_out_folder,\n",
        "      \"outdir_img2img_samples\": gdrive_img2img_out_folder,\n",
        "      \"outdir_extras_samples\": gdrive_extras_out_folder,\n",
        "      \"outdir_grids\": gdrive_grids_out_folder, \n",
        "      \"outdir_txt2img_grids\": gdrive_grids_out_folder,\n",
        "      \"outdir_img2img_grids\": gdrive_grids_out_folder,\n",
        "      \"save_to_dirs\": save_to_sub_dirs,\n",
        "      \"save_to_dirs_prompt_len\": sub_dir_name_length,\n",
        "      \"outdir_save\": \"log/images\",\n",
        "      \"samples_save\": True,\n",
        "      \"samples_format\": 'png', \n",
        "      \"grid_save\": True, \n",
        "      \"return_grid\": True, \n",
        "      \"grid_format\": 'png', \n",
        "      \"grid_extended_filename\": False, \n",
        "      \"grid_only_if_multiple\": True, \n",
        "      \"n_rows\": -1, \n",
        "      \"jpeg_quality\": 80, \n",
        "      \"export_for_4chan\": True, \n",
        "      \"enable_pnginfo\": True, \n",
        "      \"font\": \"\", \n",
        "      \"enable_emphasis\": True, \n",
        "      \"save_txt\": False, \n",
        "      \"ESRGAN_tile\": 192, \n",
        "      \"ESRGAN_tile_overlap\": 8, \n",
        "      \"random_artist_categories\": [],\n",
        "      \"upscale_at_full_resolution_padding\": 16, \n",
        "      \"show_progressbar\": True,\n",
        "      \"show_progress_every_n_steps\": 0, \n",
        "      \"multiple_tqdm\": True, \n",
        "      \"face_restoration_model\": None,\n",
        "      \"code_former_weight\": 0.5\n",
        "      }\n",
        "  with open(\"config.json\", \"w\", encoding=\"utf8\") as file:\n",
        "    json.dump(optsdata, file)\n"
      ],
      "metadata": {
        "id": "sg_Nc_AKDO-i"
      },
      "execution_count": null,
      "outputs": []
    },
    {
      "cell_type": "markdown",
      "source": [
        "Kill the runtime."
      ],
      "metadata": {
        "id": "Nshm7G9VAbIA"
      }
    },
    {
      "cell_type": "code",
      "source": [
        "import os\n",
        "os.kill(os.getpid(), 9) # This will crash Colab (required, everything will still be intact so dont worry)"
      ],
      "metadata": {
        "id": "B977dVS6AZcL"
      },
      "execution_count": null,
      "outputs": []
    },
    {
      "cell_type": "markdown",
      "source": [
        "Change into Web UI directory and download updates"
      ],
      "metadata": {
        "id": "S8nvm5f6AfaL"
      }
    },
    {
      "cell_type": "code",
      "source": [
        "%cd stable-diffusion-webui\n",
        "!git pull"
      ],
      "metadata": {
        "id": "I1j4j2NfAQye"
      },
      "execution_count": null,
      "outputs": []
    },
    {
      "cell_type": "markdown",
      "source": [
        "Launch web ui. You will get a link to nnn.gradio.app, follow it."
      ],
      "metadata": {
        "id": "xt8lbdmC04ox"
      }
    },
    {
      "cell_type": "code",
      "source": [
        "import sys\n",
        "sys.argv = [\"--opt-split-attention\"]\n",
        "\n",
        "import webui\n",
        "import modules.ui\n",
        "import modules.txt2img\n",
        "\n",
        "import os\n",
        "\n",
        "# set opts.outdir_samples / opts.outdir_txt2img_samples, etc.\n",
        "\n",
        "demo = modules.ui.create_ui(\n",
        "\ttxt2img=webui.wrap_gradio_gpu_call(modules.txt2img.txt2img),\n",
        "\timg2img=webui.wrap_gradio_gpu_call(modules.img2img.img2img),\n",
        "\trun_extras=webui.wrap_gradio_gpu_call(webui.run_extras),\n",
        "\trun_pnginfo=webui.run_pnginfo\n",
        ")\n",
        "debug_output_in_colab = True #@param{type: 'boolean'}\n",
        "demo.launch(share=True, debug=debug_output_in_colab)\n"
      ],
      "metadata": {
        "id": "R-xAdMA5wxXd"
      },
      "execution_count": null,
      "outputs": []
    }
  ]
}